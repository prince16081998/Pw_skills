{
 "cells": [
  {
   "cell_type": "code",
   "execution_count": 1,
   "id": "4330b0a6-a30a-4c38-9778-15f2c4aac684",
   "metadata": {},
   "outputs": [],
   "source": [
    "#Question 1"
   ]
  },
  {
   "cell_type": "code",
   "execution_count": 3,
   "id": "1e458ef3-7d25-4991-9348-2da93a40e4fe",
   "metadata": {},
   "outputs": [
    {
     "name": "stdout",
     "output_type": "stream",
     "text": [
      "Swaped value of X: 10\n",
      "Swaped value of Y: 20\n"
     ]
    }
   ],
   "source": [
    "x=20\n",
    "y=10\n",
    "x=x+y # x updated to 30\n",
    "y=x-y # y updated to 20\n",
    "x=x-y # x updated to 10\n",
    "print(\"Swaped value of X:\",x)\n",
    "print(\"Swaped value of Y:\",y)"
   ]
  },
  {
   "cell_type": "code",
   "execution_count": 4,
   "id": "671ff3ca-f589-493e-a18a-6e362646cb82",
   "metadata": {},
   "outputs": [],
   "source": [
    "#Question 2"
   ]
  },
  {
   "cell_type": "code",
   "execution_count": 6,
   "id": "274e158f-e5bb-4bdf-8a9f-0223354bfe0b",
   "metadata": {},
   "outputs": [
    {
     "name": "stdin",
     "output_type": "stream",
     "text": [
      "Enter the length of the Rectangle: 23\n",
      "Enter the width of the Rectangle: 10\n"
     ]
    },
    {
     "name": "stdout",
     "output_type": "stream",
     "text": [
      "The area of the rectengle is: 230.0\n"
     ]
    }
   ],
   "source": [
    "l=input(\"Enter the length of the Rectangle:\")\n",
    "b=input(\"Enter the width of the Rectangle:\")\n",
    "Area=float(l)*float(b)\n",
    "print(\"The area of the rectengle is:\",Area)"
   ]
  },
  {
   "cell_type": "code",
   "execution_count": 7,
   "id": "31862f37-be76-42d4-bacb-c879455b1404",
   "metadata": {},
   "outputs": [],
   "source": [
    "#Question 3"
   ]
  },
  {
   "cell_type": "code",
   "execution_count": 11,
   "id": "27911486-a808-4b33-a432-a3b0f9e5340d",
   "metadata": {},
   "outputs": [
    {
     "name": "stdin",
     "output_type": "stream",
     "text": [
      "Enter the temperature in celcius: 40\n"
     ]
    },
    {
     "name": "stdout",
     "output_type": "stream",
     "text": [
      "Temperature in Fahrenheit is  104.0\n"
     ]
    }
   ],
   "source": [
    "c=input(\"Enter the temperature in celcius:\")\n",
    "f=float(c)*(9/5)+32\n",
    "print(\"Temperature in Fahrenheit is \",f)"
   ]
  },
  {
   "cell_type": "code",
   "execution_count": null,
   "id": "b38987b9-4b50-4ed0-9b21-16b663046ba7",
   "metadata": {},
   "outputs": [],
   "source": [
    "#Question 4"
   ]
  },
  {
   "cell_type": "code",
   "execution_count": 25,
   "id": "3f2075b6-0703-478f-b660-16ec37ea0e80",
   "metadata": {},
   "outputs": [
    {
     "name": "stdin",
     "output_type": "stream",
     "text": [
      "Enter any sentence: my name is prince\n"
     ]
    },
    {
     "name": "stdout",
     "output_type": "stream",
     "text": [
      "Length of the string is: 17\n"
     ]
    }
   ],
   "source": [
    "str1=input(\"Enter any sentence:\")\n",
    "length=len(str1)\n",
    "print(\"Length of the string is:\",length)"
   ]
  },
  {
   "cell_type": "code",
   "execution_count": 26,
   "id": "eea4e5d5-52ce-4a34-a633-705d9054c46a",
   "metadata": {},
   "outputs": [],
   "source": [
    "#Question 5"
   ]
  },
  {
   "cell_type": "code",
   "execution_count": 33,
   "id": "8f4d85b1-b20f-4805-8369-56e0a5d2ec7f",
   "metadata": {},
   "outputs": [
    {
     "name": "stdin",
     "output_type": "stream",
     "text": [
      "Enter any sentence: This is a Mango\n"
     ]
    },
    {
     "name": "stdout",
     "output_type": "stream",
     "text": [
      "Total no of vowel is: 5\n"
     ]
    }
   ],
   "source": [
    "str1=input(\"Enter any sentence:\")\n",
    "vowel=0\n",
    "str2=str1.lower()\n",
    "for i in str2:\n",
    "        if(i == 'a' or i == 'e' or i == 'i' or i == 'o' or i == 'u'):\n",
    "            vowel=vowel+1\n",
    "\n",
    "print(\"Total no of vowel is:\",vowel)"
   ]
  },
  {
   "cell_type": "code",
   "execution_count": 34,
   "id": "fa0fc04b-9832-428a-88ec-9ea41f4735a8",
   "metadata": {},
   "outputs": [],
   "source": [
    "# Question 6"
   ]
  },
  {
   "cell_type": "code",
   "execution_count": 2,
   "id": "bcabf9e8-bf8a-469c-a6b9-c90a208d2da9",
   "metadata": {},
   "outputs": [
    {
     "name": "stdout",
     "output_type": "stream",
     "text": [
      "gnirts ym si sihT\n"
     ]
    }
   ],
   "source": [
    "original_string=\"This is my string\"\n",
    "reversed_string=original_string[::-1]\n",
    "print(reversed_string)"
   ]
  },
  {
   "cell_type": "code",
   "execution_count": 3,
   "id": "31f5f9f1-3188-4d70-aff0-181062dd28d0",
   "metadata": {},
   "outputs": [],
   "source": [
    "#Question 7"
   ]
  },
  {
   "cell_type": "code",
   "execution_count": 6,
   "id": "0a6e4c9f-b4c4-423e-9155-73d16118ec8b",
   "metadata": {},
   "outputs": [
    {
     "name": "stdin",
     "output_type": "stream",
     "text": [
      "Enter any sentence: manam\n"
     ]
    },
    {
     "name": "stdout",
     "output_type": "stream",
     "text": [
      "String is palindrome\n"
     ]
    }
   ],
   "source": [
    "my_str=input(\"Enter any sentence:\")\n",
    "if my_str==my_str[::-1]:\n",
    "    print(\"String is palindrome\")\n",
    "else:\n",
    "    print(\"String is not palindrome\")"
   ]
  },
  {
   "cell_type": "code",
   "execution_count": 7,
   "id": "654e4849-1d14-4265-9429-442d1f92ee9e",
   "metadata": {},
   "outputs": [],
   "source": [
    "#Question 8"
   ]
  },
  {
   "cell_type": "code",
   "execution_count": 8,
   "id": "24d4b9ac-50de-4c49-aa2a-7cfa1bb621d0",
   "metadata": {},
   "outputs": [
    {
     "name": "stdin",
     "output_type": "stream",
     "text": [
      "Enter any String: my name is Prince\n"
     ]
    },
    {
     "name": "stdout",
     "output_type": "stream",
     "text": [
      "mynameisPrince\n"
     ]
    }
   ],
   "source": [
    "my_str2=input(\"Enter any String:\")\n",
    "modified_string=my_str2.replace(\" \",\"\")\n",
    "print(modified_string)"
   ]
  },
  {
   "cell_type": "code",
   "execution_count": null,
   "id": "2aa8d063-f186-4e69-9ed8-41b229b121f8",
   "metadata": {},
   "outputs": [],
   "source": []
  }
 ],
 "metadata": {
  "kernelspec": {
   "display_name": "Python 3 (ipykernel)",
   "language": "python",
   "name": "python3"
  },
  "language_info": {
   "codemirror_mode": {
    "name": "ipython",
    "version": 3
   },
   "file_extension": ".py",
   "mimetype": "text/x-python",
   "name": "python",
   "nbconvert_exporter": "python",
   "pygments_lexer": "ipython3",
   "version": "3.10.8"
  }
 },
 "nbformat": 4,
 "nbformat_minor": 5
}
